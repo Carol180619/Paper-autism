{
 "cells": [
  {
   "cell_type": "markdown",
   "id": "5d968b46",
   "metadata": {},
   "source": [
    "# IMPORT PACKAGES"
   ]
  },
  {
   "cell_type": "code",
   "execution_count": null,
   "id": "4526e951",
   "metadata": {},
   "outputs": [],
   "source": [
    "import measures\n",
    "from measures import graph3,compute_all_features\n",
    "import numpy as np\n",
    "import glob\n",
    "import pandas as pd\n",
    "from sklearn.preprocessing import StandardScaler\n",
    "from pandas import DataFrame"
   ]
  },
  {
   "cell_type": "code",
   "execution_count": null,
   "id": "9107192d",
   "metadata": {},
   "outputs": [],
   "source": [
    "print(np.__version__)"
   ]
  },
  {
   "cell_type": "markdown",
   "id": "793e1e9a",
   "metadata": {},
   "source": [
    "# READ MATRICES"
   ]
  },
  {
   "cell_type": "markdown",
   "id": "35cbfe12",
   "metadata": {},
   "source": [
    "Here, insert the path for the connectivity matrices. In the folder \"autism-spearman\" Sperarman's connectivity matrices are available."
   ]
  },
  {
   "cell_type": "code",
   "execution_count": null,
   "id": "c45de6aa",
   "metadata": {},
   "outputs": [],
   "source": [
    "## Define function to read\n",
    "def pixels_from_path(file_path):\n",
    "    im = open(file_path)\n",
    "    test = pd.read_csv(im,sep=\",\", index_col=False,header=None)\n",
    "    #im = im.resize(IMG_SIZE)\n",
    "    np_im = np.array(test)\n",
    "    #matrix of pixel RGB values\n",
    "    return np_im\n",
    "\n",
    "print(\"ASD\")\n",
    "#insert path for Pearson connectivity matrix with ayahuasca\n",
    "#aya = np.asarray([pixels_from_path(n) for n in glob.glob(r'PATH-ayahuasca-EEG-time-series/*csv')])\n",
    "asd = np.asarray([pixels_from_path(n) for n in glob.glob(r'autism-spearman/spearman-autism/*csv')])\n",
    "print(\"shape for ASD matrices\")\n",
    "print(np.shape(asd ))\n",
    "#insert path for Pearson connectivity matrix no ayahuasca\n",
    "print(\"TD\")\n",
    "#normal = np.asarray([pixels_from_path(n) for n in glob.glob(r'PATH-no-ayahuasca-EEG-time-series/*csv')])\n",
    "no = np.asarray([pixels_from_path(n) for n in glob.glob(r'autism-spearman/spearman-healthy/*csv')])\n",
    "#print(normal)\n",
    "print(\"shape for TD matrices\")\n",
    "print(np.shape(no))\n"
   ]
  },
  {
   "cell_type": "markdown",
   "id": "61727fcf",
   "metadata": {},
   "source": [
    "# COMPUTE GRAPHS"
   ]
  },
  {
   "cell_type": "code",
   "execution_count": null,
   "id": "e8449d15",
   "metadata": {},
   "outputs": [],
   "source": [
    "list_thr_yes=[]\n",
    "list_graph_yes=[]\n",
    "list_thr_no=[]\n",
    "list_graph_no=[]\n",
    "\n",
    "\n",
    "def threshold1(matrix):\n",
    "    try:\n",
    "        list_min = []\n",
    "        list_max = []\n",
    "        matrix1 = np.array(matrix, dtype=np.float)\n",
    "        scaler = StandardScaler()\n",
    "        matrix1 = scaler.fit_transform(matrix1)\n",
    "        matrix1 = np.nan_to_num(matrix1) \n",
    "        threshold, upper, lower = 0.5, 1, 0\n",
    "        matrix1[matrix1 <= threshold] = lower\n",
    "        matrix1[matrix1 > threshold] = upper\n",
    "        matrix1 = np.triu(matrix1) + np.triu(matrix1,1).T\n",
    "        return matrix1\n",
    "    except Exception as e:\n",
    "        print(f\"An error occurred: {str(e)}\")\n",
    "        return None  \n",
    "    # You can return None or\n",
    "#### Graphs with ayahuasca\n",
    "for i in  asd:\n",
    "    list_thr_yes.append(threshold1(i))\n",
    "    print(list_thr_yes)\n",
    "for i in list_thr_yes:\n",
    "    list_graph_yes.append(graph3(i))\n",
    "#### Graphs with no ayahuasca\n",
    "for i in  no:\n",
    "    list_thr_no.append(threshold1(i))\n",
    "    print(list_thr_no)\n",
    "for i in list_thr_no:\n",
    "    list_graph_no.append(graph3(i))"
   ]
  },
  {
   "cell_type": "markdown",
   "id": "8f9ce1a7",
   "metadata": {},
   "source": [
    "# EXPORT ALL MEASURES"
   ]
  },
  {
   "cell_type": "code",
   "execution_count": null,
   "id": "85a1456d",
   "metadata": {},
   "outputs": [],
   "source": [
    "list_final_yes= compute_all_features(list_graph_yes)\n",
    "df_yes = pd.DataFrame(list_final_yes)\n",
    "df_yes =pd.DataFrame.transpose(df_yes)\n",
    "\n",
    "export_csv = df_yes.to_csv(r'graph-all-ASD.csv', index = None, header=['Assortativity','APL','BC','CC','Diameter','EC','Hub score','Knn','Transitivity','Pagerank','ASC','AFC','AIC','ALC','Mean degree','SMD','ED', 'Complexity','K-core','Efficiency','AMC','ALPC','AEBC','ASPC','Diversity','Eccentricity','Density','Reciprocity','EI','Determinism coefficient','Degeneracy coefficients'])\n",
    "\n",
    "list_final_no= compute_all_features(list_graph_no)\n",
    "df_no = pd.DataFrame(list_final_no)\n",
    "df_no =pd.DataFrame.transpose(df_no)\n",
    "\n",
    "export_csv = df_no.to_csv(r'graph-all-TD.csv', index = None, header=['Assortativity','APL','BC','CC','Diameter','EC','Hub score','Knn','Transitivity','Pagerank','ASC','AFC','AIC','ALC','Mean degree','SMD','ED', 'Complexity','K-core','Efficiency','AMC','ALPC','AEBC','ASPC','Diversity','Eccentricity','Density','Reciprocity','EI','Determinism coefficient','Degeneracy coefficients'])\n",
    "\n"
   ]
  },
  {
   "cell_type": "code",
   "execution_count": null,
   "id": "cd45affa",
   "metadata": {},
   "outputs": [],
   "source": []
  }
 ],
 "metadata": {
  "kernelspec": {
   "display_name": "Python 3 (ipykernel)",
   "language": "python",
   "name": "python3"
  },
  "language_info": {
   "codemirror_mode": {
    "name": "ipython",
    "version": 3
   },
   "file_extension": ".py",
   "mimetype": "text/x-python",
   "name": "python",
   "nbconvert_exporter": "python",
   "pygments_lexer": "ipython3",
   "version": "3.9.7"
  }
 },
 "nbformat": 4,
 "nbformat_minor": 5
}
